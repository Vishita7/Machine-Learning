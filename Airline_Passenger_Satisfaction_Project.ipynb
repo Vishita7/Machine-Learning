{
  "cells": [
    {
      "cell_type": "markdown",
      "metadata": {
        "id": "view-in-github",
        "colab_type": "text"
      },
      "source": [
        "<a href=\"https://colab.research.google.com/github/Vishita7/Machine-Learning/blob/main/Airline_Passenger_Satisfaction_Project.ipynb\" target=\"_parent\"><img src=\"https://colab.research.google.com/assets/colab-badge.svg\" alt=\"Open In Colab\"/></a>"
      ]
    },
    {
      "cell_type": "markdown",
      "metadata": {
        "id": "JOY9SfXtjqIa"
      },
      "source": [
        "#Project - Airline Passenger Satisfaction Project\n",
        "####Created By Vishita Yadav\n",
        "\n",
        "###Introduction\n",
        "Customer satisfaction is particularly key as it can affect whether a customer is likely to reuse the service and whether they are likely to recommend the service. The passenger is always the best group of clients to the airline as the fare is one of the main revenues. Airline companies are looking to enhance customer satisfaction and increase business performance by reporting and strategizing the factors that influence customer satisfaction levels. Analyzing their feedback would greatly help the airlines understand more what the passenger exactly needs and where they can improve better. Through this project we are analyzing which features contribute most to the levels of customer satisfaction towards the airline. By understanding the satisfaction, the business can seek to improve and ensure future growth.\n",
        "\n",
        "The objectives of this data analysis are:\n",
        "\n",
        "Perform EDA between the passenger satisfaction and all other features\n",
        "Select the best predictive models for predicting passengers’ satisfaction\n",
        "Evaluate the high correlation factors through the great performance models\n",
        "Through the use of an extensive passenger satisfaction dataset, we will aim to evaluate factors that affect the overall satisfaction as well aim to understand how predictable the overall level of customer satisfaction is relative to the key data. From the best model, we have observed the following features that contributed the most to the satisfaction levels. \n",
        "1. Flight distance\n",
        "2. Inflight Wi-Fi services\n",
        "3. Leg room service\n",
        "4. Inflight entertainment\n",
        "5. Seat comfort\n",
        "\n",
        "\n",
        "\n",
        "\n"
      ]
    },
    {
      "cell_type": "markdown",
      "metadata": {
        "id": "gysFWQ1H85oW"
      },
      "source": [
        "#Importing Modules"
      ]
    },
    {
      "cell_type": "code",
      "execution_count": null,
      "metadata": {
        "id": "yHlDrQUvIuRB",
        "colab": {
          "base_uri": "https://localhost:8080/"
        },
        "outputId": "b057684d-9e27-44fa-f9de-168fa6df617a"
      },
      "outputs": [
        {
          "output_type": "stream",
          "name": "stdout",
          "text": [
            "Looking in indexes: https://pypi.org/simple, https://us-python.pkg.dev/colab-wheels/public/simple/\n",
            "Collecting https://github.com/pandas-profiling/pandas-profiling/archive/master.zip\n",
            "  Downloading https://github.com/pandas-profiling/pandas-profiling/archive/master.zip\n",
            "\u001b[K     | 21.9 MB 1.0 MB/s\n",
            "\u001b[?25hRequirement already satisfied: joblib~=1.1.0 in /usr/local/lib/python3.7/dist-packages (from pandas-profiling==3.2.0) (1.1.0)\n",
            "Requirement already satisfied: scipy>=1.4.1 in /usr/local/lib/python3.7/dist-packages (from pandas-profiling==3.2.0) (1.7.3)\n",
            "Requirement already satisfied: pandas!=1.0.0,!=1.0.1,!=1.0.2,!=1.1.0,>=0.25.3 in /usr/local/lib/python3.7/dist-packages (from pandas-profiling==3.2.0) (1.3.5)\n",
            "Requirement already satisfied: matplotlib>=3.2.0 in /usr/local/lib/python3.7/dist-packages (from pandas-profiling==3.2.0) (3.2.2)\n",
            "Requirement already satisfied: pydantic>=1.8.1 in /usr/local/lib/python3.7/dist-packages (from pandas-profiling==3.2.0) (1.8.2)\n",
            "Collecting PyYAML>=5.0.0\n",
            "  Downloading PyYAML-6.0-cp37-cp37m-manylinux_2_5_x86_64.manylinux1_x86_64.manylinux_2_12_x86_64.manylinux2010_x86_64.whl (596 kB)\n",
            "\u001b[K     |████████████████████████████████| 596 kB 4.1 MB/s \n",
            "\u001b[?25hRequirement already satisfied: jinja2>=2.11.1 in /usr/local/lib/python3.7/dist-packages (from pandas-profiling==3.2.0) (2.11.3)\n",
            "Collecting visions[type_image_path]==0.7.5\n",
            "  Downloading visions-0.7.5-py3-none-any.whl (102 kB)\n",
            "\u001b[K     |████████████████████████████████| 102 kB 45.9 MB/s \n",
            "\u001b[?25hRequirement already satisfied: numpy>=1.16.0 in /usr/local/lib/python3.7/dist-packages (from pandas-profiling==3.2.0) (1.21.6)\n",
            "Collecting htmlmin>=0.1.12\n",
            "  Downloading htmlmin-0.1.12.tar.gz (19 kB)\n",
            "Requirement already satisfied: missingno>=0.4.2 in /usr/local/lib/python3.7/dist-packages (from pandas-profiling==3.2.0) (0.5.1)\n",
            "Collecting phik>=0.11.1\n",
            "  Downloading phik-0.12.2-cp37-cp37m-manylinux_2_17_x86_64.manylinux2014_x86_64.whl (690 kB)\n",
            "\u001b[K     |████████████████████████████████| 690 kB 34.6 MB/s \n",
            "\u001b[?25hCollecting tangled-up-in-unicode==0.2.0\n",
            "  Downloading tangled_up_in_unicode-0.2.0-py3-none-any.whl (4.7 MB)\n",
            "\u001b[K     |████████████████████████████████| 4.7 MB 41.9 MB/s \n",
            "\u001b[?25hCollecting requests>=2.24.0\n",
            "  Downloading requests-2.28.1-py3-none-any.whl (62 kB)\n",
            "\u001b[K     |████████████████████████████████| 62 kB 1.1 MB/s \n",
            "\u001b[?25hRequirement already satisfied: tqdm>=4.48.2 in /usr/local/lib/python3.7/dist-packages (from pandas-profiling==3.2.0) (4.64.0)\n",
            "Requirement already satisfied: seaborn>=0.10.1 in /usr/local/lib/python3.7/dist-packages (from pandas-profiling==3.2.0) (0.11.2)\n",
            "Collecting multimethod>=1.4\n",
            "  Downloading multimethod-1.8-py3-none-any.whl (9.8 kB)\n",
            "Requirement already satisfied: networkx>=2.4 in /usr/local/lib/python3.7/dist-packages (from visions[type_image_path]==0.7.5->pandas-profiling==3.2.0) (2.6.3)\n",
            "Requirement already satisfied: attrs>=19.3.0 in /usr/local/lib/python3.7/dist-packages (from visions[type_image_path]==0.7.5->pandas-profiling==3.2.0) (21.4.0)\n",
            "Collecting imagehash\n",
            "  Downloading ImageHash-4.2.1.tar.gz (812 kB)\n",
            "\u001b[K     |████████████████████████████████| 812 kB 9.6 MB/s \n",
            "\u001b[?25hRequirement already satisfied: Pillow in /usr/local/lib/python3.7/dist-packages (from visions[type_image_path]==0.7.5->pandas-profiling==3.2.0) (7.1.2)\n",
            "Requirement already satisfied: MarkupSafe>=0.23 in /usr/local/lib/python3.7/dist-packages (from jinja2>=2.11.1->pandas-profiling==3.2.0) (2.0.1)\n",
            "Requirement already satisfied: cycler>=0.10 in /usr/local/lib/python3.7/dist-packages (from matplotlib>=3.2.0->pandas-profiling==3.2.0) (0.11.0)\n",
            "Requirement already satisfied: pyparsing!=2.0.4,!=2.1.2,!=2.1.6,>=2.0.1 in /usr/local/lib/python3.7/dist-packages (from matplotlib>=3.2.0->pandas-profiling==3.2.0) (3.0.9)\n",
            "Requirement already satisfied: python-dateutil>=2.1 in /usr/local/lib/python3.7/dist-packages (from matplotlib>=3.2.0->pandas-profiling==3.2.0) (2.8.2)\n",
            "Requirement already satisfied: kiwisolver>=1.0.1 in /usr/local/lib/python3.7/dist-packages (from matplotlib>=3.2.0->pandas-profiling==3.2.0) (1.4.3)\n",
            "Requirement already satisfied: typing-extensions in /usr/local/lib/python3.7/dist-packages (from kiwisolver>=1.0.1->matplotlib>=3.2.0->pandas-profiling==3.2.0) (4.1.1)\n",
            "Requirement already satisfied: pytz>=2017.3 in /usr/local/lib/python3.7/dist-packages (from pandas!=1.0.0,!=1.0.1,!=1.0.2,!=1.1.0,>=0.25.3->pandas-profiling==3.2.0) (2022.1)\n",
            "Requirement already satisfied: six>=1.5 in /usr/local/lib/python3.7/dist-packages (from python-dateutil>=2.1->matplotlib>=3.2.0->pandas-profiling==3.2.0) (1.15.0)\n",
            "Requirement already satisfied: charset-normalizer<3,>=2 in /usr/local/lib/python3.7/dist-packages (from requests>=2.24.0->pandas-profiling==3.2.0) (2.1.0)\n",
            "Requirement already satisfied: urllib3<1.27,>=1.21.1 in /usr/local/lib/python3.7/dist-packages (from requests>=2.24.0->pandas-profiling==3.2.0) (1.24.3)\n",
            "Requirement already satisfied: idna<4,>=2.5 in /usr/local/lib/python3.7/dist-packages (from requests>=2.24.0->pandas-profiling==3.2.0) (2.10)\n",
            "Requirement already satisfied: certifi>=2017.4.17 in /usr/local/lib/python3.7/dist-packages (from requests>=2.24.0->pandas-profiling==3.2.0) (2022.6.15)\n",
            "Requirement already satisfied: PyWavelets in /usr/local/lib/python3.7/dist-packages (from imagehash->visions[type_image_path]==0.7.5->pandas-profiling==3.2.0) (1.3.0)\n",
            "Building wheels for collected packages: pandas-profiling, htmlmin, imagehash\n",
            "  Building wheel for pandas-profiling (setup.py) ... \u001b[?25l\u001b[?25hdone\n",
            "  Created wheel for pandas-profiling: filename=pandas_profiling-3.2.0-py2.py3-none-any.whl size=261257 sha256=30118887757097b76ede21e9dab91b7b799e570d88cb92ba805cf863c6576ecc\n",
            "  Stored in directory: /tmp/pip-ephem-wheel-cache-q8ibk1cj/wheels/cc/d5/09/083fb07c9363a2f45854b0e3a7de7d7c560f07da74b9e9769d\n",
            "  Building wheel for htmlmin (setup.py) ... \u001b[?25l\u001b[?25hdone\n",
            "  Created wheel for htmlmin: filename=htmlmin-0.1.12-py3-none-any.whl size=27098 sha256=cc68e6d736c2f0a3dbddcd5f9681e4cb5978ff2bd5c7e27a463b542c5e447f97\n",
            "  Stored in directory: /root/.cache/pip/wheels/70/e1/52/5b14d250ba868768823940c3229e9950d201a26d0bd3ee8655\n",
            "  Building wheel for imagehash (setup.py) ... \u001b[?25l\u001b[?25hdone\n",
            "  Created wheel for imagehash: filename=ImageHash-4.2.1-py2.py3-none-any.whl size=295206 sha256=6a5ebd04a129a610f07c4a54793f7c315e92ba5977c5380499f6e409d2740c44\n",
            "  Stored in directory: /root/.cache/pip/wheels/4c/d5/59/5e3e297533ddb09407769762985d134135064c6831e29a914e\n",
            "Successfully built pandas-profiling htmlmin imagehash\n",
            "Installing collected packages: tangled-up-in-unicode, multimethod, visions, imagehash, requests, PyYAML, phik, htmlmin, pandas-profiling\n",
            "  Attempting uninstall: requests\n",
            "    Found existing installation: requests 2.23.0\n",
            "    Uninstalling requests-2.23.0:\n",
            "      Successfully uninstalled requests-2.23.0\n",
            "  Attempting uninstall: PyYAML\n",
            "    Found existing installation: PyYAML 3.13\n",
            "    Uninstalling PyYAML-3.13:\n",
            "      Successfully uninstalled PyYAML-3.13\n",
            "  Attempting uninstall: pandas-profiling\n",
            "    Found existing installation: pandas-profiling 1.4.1\n",
            "    Uninstalling pandas-profiling-1.4.1:\n",
            "      Successfully uninstalled pandas-profiling-1.4.1\n",
            "\u001b[31mERROR: pip's dependency resolver does not currently take into account all the packages that are installed. This behaviour is the source of the following dependency conflicts.\n",
            "google-colab 1.0.0 requires requests~=2.23.0, but you have requests 2.28.1 which is incompatible.\n",
            "datascience 0.10.6 requires folium==0.2.1, but you have folium 0.8.3 which is incompatible.\u001b[0m\n",
            "Successfully installed PyYAML-6.0 htmlmin-0.1.12 imagehash-4.2.1 multimethod-1.8 pandas-profiling-3.2.0 phik-0.12.2 requests-2.28.1 tangled-up-in-unicode-0.2.0 visions-0.7.5\n",
            "Looking in indexes: https://pypi.org/simple, https://us-python.pkg.dev/colab-wheels/public/simple/\n",
            "Requirement already satisfied: markupsafe==2.0.1 in /usr/local/lib/python3.7/dist-packages (2.0.1)\n",
            "Name: pandas-profiling\n",
            "Version: 3.2.0\n",
            "Summary: Generate profile report for pandas DataFrame\n",
            "Home-page: https://github.com/pandas-profiling/pandas-profiling\n",
            "Author: Simon Brugman\n",
            "Author-email: pandasprofiling@gmail.com\n",
            "License: MIT\n",
            "Location: /usr/local/lib/python3.7/dist-packages\n",
            "Requires: phik, visions, jinja2, multimethod, htmlmin, scipy, missingno, pydantic, tangled-up-in-unicode, tqdm, seaborn, PyYAML, numpy, pandas, requests, matplotlib, joblib\n",
            "Required-by: \n"
          ]
        }
      ],
      "source": [
        "! pip install https://github.com/pandas-profiling/pandas-profiling/archive/master.zip\n",
        "! pip install markupsafe==2.0.1\n",
        "! pip show pandas-profiling"
      ]
    },
    {
      "cell_type": "markdown",
      "metadata": {
        "id": "f3PF_h2O9BKl"
      },
      "source": [
        "##Mounting the Drive"
      ]
    },
    {
      "cell_type": "code",
      "execution_count": null,
      "metadata": {
        "id": "IztjXm8GzzWs",
        "colab": {
          "base_uri": "https://localhost:8080/"
        },
        "outputId": "3b4cc400-e34e-4c32-cf4d-db7e0438e68c"
      },
      "outputs": [
        {
          "output_type": "stream",
          "name": "stdout",
          "text": [
            "Mounted at /content/drive\n"
          ]
        }
      ],
      "source": [
        "from google.colab import drive\n",
        "drive.mount('/content/drive')"
      ]
    },
    {
      "cell_type": "code",
      "execution_count": null,
      "metadata": {
        "id": "aRs64anJ0Gqr"
      },
      "outputs": [],
      "source": [
        "import pandas as pd\n",
        "import numpy as np\n",
        "import matplotlib.pyplot as plt\n",
        "from matplotlib.pyplot import *\n",
        "from sklearn.preprocessing import LabelEncoder\n",
        "from sklearn.preprocessing import MinMaxScaler\n",
        "from sklearn.feature_selection import SelectKBest, chi2\n",
        "from sklearn.ensemble import RandomForestClassifier\n",
        "from sklearn.preprocessing import StandardScaler\n",
        "\n",
        "#Modules used in modeling \n",
        "\n",
        "from sklearn.metrics import classification_report, confusion_matrix, accuracy_score, f1_score, recall_score, precision_score,r2_score, mean_squared_error,roc_auc_score, plot_roc_curve,plot_confusion_matrix\n",
        "\n",
        "from sklearn.linear_model import LogisticRegression\n",
        "from sklearn.svm import SVC\n",
        "from sklearn.linear_model import Perceptron\n",
        "from sklearn.naive_bayes import GaussianNB\n",
        "from sklearn.neighbors import KNeighborsClassifier\n",
        "from sklearn.ensemble import GradientBoostingClassifier\n",
        "from sklearn.tree import DecisionTreeClassifier\n",
        "import xgboost as xgb\n",
        "import seaborn as sns"
      ]
    },
    {
      "cell_type": "code",
      "execution_count": null,
      "metadata": {
        "id": "dEzPP6LwreOd"
      },
      "outputs": [],
      "source": [
        "def FitStatCalculation(ModelName,ModelVariable, y_test, y_pred, x_test):\n",
        "  print('Accuracy of '+ModelName+': %.4f' % accuracy_score(y_test, y_pred))\n",
        "  print('Misclassification Rate of '+ModelName+': %.4f' % (1-accuracy_score(y_test, y_pred)))\n",
        "  print('R-square of '+ModelName+': %.4f' % r2_score(y_test, y_pred))\n",
        "  print('Mean Square Error for '+ModelName+': %.4f' % mean_squared_error(y_test, y_pred))\n",
        "  print('Root Mean Square Error for '+ModelName+': %.4f'% np.sqrt(mean_squared_error(y_test, y_pred)))\n",
        "  print(confusion_matrix(y_test,y_pred))\n",
        "  print(classification_report(y_test,y_pred))\n",
        "  plot_confusion_matrix(ModelVariable, x_test_std, y_test,cmap=plt.cm.pink, normalize = 'all')\n",
        "  plot_roc_curve(ModelVariable, x_test_std, y_test)"
      ]
    },
    {
      "cell_type": "markdown",
      "metadata": {
        "id": "Viqs-aZw9KtI"
      },
      "source": [
        "##Loading the data into Train, test datasets"
      ]
    },
    {
      "cell_type": "code",
      "execution_count": null,
      "metadata": {
        "id": "2wJVg5c10KsV",
        "colab": {
          "base_uri": "https://localhost:8080/",
          "height": 438
        },
        "outputId": "d246df58-7aea-4fa0-8049-60ea71b4aa06"
      },
      "outputs": [
        {
          "output_type": "execute_result",
          "data": {
            "text/plain": [
              "   Unnamed: 0      id  Gender      Customer Type  Age   Type of Travel  \\\n",
              "0           0   70172    Male     Loyal Customer   13  Personal Travel   \n",
              "1           1    5047    Male  disloyal Customer   25  Business travel   \n",
              "2           2  110028  Female     Loyal Customer   26  Business travel   \n",
              "3           3   24026  Female     Loyal Customer   25  Business travel   \n",
              "4           4  119299    Male     Loyal Customer   61  Business travel   \n",
              "\n",
              "      Class  Flight Distance  Inflight wifi service  \\\n",
              "0  Eco Plus              460                      3   \n",
              "1  Business              235                      3   \n",
              "2  Business             1142                      2   \n",
              "3  Business              562                      2   \n",
              "4  Business              214                      3   \n",
              "\n",
              "   Departure/Arrival time convenient  ...  Inflight entertainment  \\\n",
              "0                                  4  ...                       5   \n",
              "1                                  2  ...                       1   \n",
              "2                                  2  ...                       5   \n",
              "3                                  5  ...                       2   \n",
              "4                                  3  ...                       3   \n",
              "\n",
              "   On-board service  Leg room service  Baggage handling  Checkin service  \\\n",
              "0                 4                 3                 4                4   \n",
              "1                 1                 5                 3                1   \n",
              "2                 4                 3                 4                4   \n",
              "3                 2                 5                 3                1   \n",
              "4                 3                 4                 4                3   \n",
              "\n",
              "   Inflight service  Cleanliness  Departure Delay in Minutes  \\\n",
              "0                 5            5                          25   \n",
              "1                 4            1                           1   \n",
              "2                 4            5                           0   \n",
              "3                 4            2                          11   \n",
              "4                 3            3                           0   \n",
              "\n",
              "   Arrival Delay in Minutes             satisfaction  \n",
              "0                      18.0  neutral or dissatisfied  \n",
              "1                       6.0  neutral or dissatisfied  \n",
              "2                       0.0                satisfied  \n",
              "3                       9.0  neutral or dissatisfied  \n",
              "4                       0.0                satisfied  \n",
              "\n",
              "[5 rows x 25 columns]"
            ],
            "text/html": [
              "\n",
              "  <div id=\"df-9e12ee5b-99ad-4c80-a4e7-6a335a8f9090\">\n",
              "    <div class=\"colab-df-container\">\n",
              "      <div>\n",
              "<style scoped>\n",
              "    .dataframe tbody tr th:only-of-type {\n",
              "        vertical-align: middle;\n",
              "    }\n",
              "\n",
              "    .dataframe tbody tr th {\n",
              "        vertical-align: top;\n",
              "    }\n",
              "\n",
              "    .dataframe thead th {\n",
              "        text-align: right;\n",
              "    }\n",
              "</style>\n",
              "<table border=\"1\" class=\"dataframe\">\n",
              "  <thead>\n",
              "    <tr style=\"text-align: right;\">\n",
              "      <th></th>\n",
              "      <th>Unnamed: 0</th>\n",
              "      <th>id</th>\n",
              "      <th>Gender</th>\n",
              "      <th>Customer Type</th>\n",
              "      <th>Age</th>\n",
              "      <th>Type of Travel</th>\n",
              "      <th>Class</th>\n",
              "      <th>Flight Distance</th>\n",
              "      <th>Inflight wifi service</th>\n",
              "      <th>Departure/Arrival time convenient</th>\n",
              "      <th>...</th>\n",
              "      <th>Inflight entertainment</th>\n",
              "      <th>On-board service</th>\n",
              "      <th>Leg room service</th>\n",
              "      <th>Baggage handling</th>\n",
              "      <th>Checkin service</th>\n",
              "      <th>Inflight service</th>\n",
              "      <th>Cleanliness</th>\n",
              "      <th>Departure Delay in Minutes</th>\n",
              "      <th>Arrival Delay in Minutes</th>\n",
              "      <th>satisfaction</th>\n",
              "    </tr>\n",
              "  </thead>\n",
              "  <tbody>\n",
              "    <tr>\n",
              "      <th>0</th>\n",
              "      <td>0</td>\n",
              "      <td>70172</td>\n",
              "      <td>Male</td>\n",
              "      <td>Loyal Customer</td>\n",
              "      <td>13</td>\n",
              "      <td>Personal Travel</td>\n",
              "      <td>Eco Plus</td>\n",
              "      <td>460</td>\n",
              "      <td>3</td>\n",
              "      <td>4</td>\n",
              "      <td>...</td>\n",
              "      <td>5</td>\n",
              "      <td>4</td>\n",
              "      <td>3</td>\n",
              "      <td>4</td>\n",
              "      <td>4</td>\n",
              "      <td>5</td>\n",
              "      <td>5</td>\n",
              "      <td>25</td>\n",
              "      <td>18.0</td>\n",
              "      <td>neutral or dissatisfied</td>\n",
              "    </tr>\n",
              "    <tr>\n",
              "      <th>1</th>\n",
              "      <td>1</td>\n",
              "      <td>5047</td>\n",
              "      <td>Male</td>\n",
              "      <td>disloyal Customer</td>\n",
              "      <td>25</td>\n",
              "      <td>Business travel</td>\n",
              "      <td>Business</td>\n",
              "      <td>235</td>\n",
              "      <td>3</td>\n",
              "      <td>2</td>\n",
              "      <td>...</td>\n",
              "      <td>1</td>\n",
              "      <td>1</td>\n",
              "      <td>5</td>\n",
              "      <td>3</td>\n",
              "      <td>1</td>\n",
              "      <td>4</td>\n",
              "      <td>1</td>\n",
              "      <td>1</td>\n",
              "      <td>6.0</td>\n",
              "      <td>neutral or dissatisfied</td>\n",
              "    </tr>\n",
              "    <tr>\n",
              "      <th>2</th>\n",
              "      <td>2</td>\n",
              "      <td>110028</td>\n",
              "      <td>Female</td>\n",
              "      <td>Loyal Customer</td>\n",
              "      <td>26</td>\n",
              "      <td>Business travel</td>\n",
              "      <td>Business</td>\n",
              "      <td>1142</td>\n",
              "      <td>2</td>\n",
              "      <td>2</td>\n",
              "      <td>...</td>\n",
              "      <td>5</td>\n",
              "      <td>4</td>\n",
              "      <td>3</td>\n",
              "      <td>4</td>\n",
              "      <td>4</td>\n",
              "      <td>4</td>\n",
              "      <td>5</td>\n",
              "      <td>0</td>\n",
              "      <td>0.0</td>\n",
              "      <td>satisfied</td>\n",
              "    </tr>\n",
              "    <tr>\n",
              "      <th>3</th>\n",
              "      <td>3</td>\n",
              "      <td>24026</td>\n",
              "      <td>Female</td>\n",
              "      <td>Loyal Customer</td>\n",
              "      <td>25</td>\n",
              "      <td>Business travel</td>\n",
              "      <td>Business</td>\n",
              "      <td>562</td>\n",
              "      <td>2</td>\n",
              "      <td>5</td>\n",
              "      <td>...</td>\n",
              "      <td>2</td>\n",
              "      <td>2</td>\n",
              "      <td>5</td>\n",
              "      <td>3</td>\n",
              "      <td>1</td>\n",
              "      <td>4</td>\n",
              "      <td>2</td>\n",
              "      <td>11</td>\n",
              "      <td>9.0</td>\n",
              "      <td>neutral or dissatisfied</td>\n",
              "    </tr>\n",
              "    <tr>\n",
              "      <th>4</th>\n",
              "      <td>4</td>\n",
              "      <td>119299</td>\n",
              "      <td>Male</td>\n",
              "      <td>Loyal Customer</td>\n",
              "      <td>61</td>\n",
              "      <td>Business travel</td>\n",
              "      <td>Business</td>\n",
              "      <td>214</td>\n",
              "      <td>3</td>\n",
              "      <td>3</td>\n",
              "      <td>...</td>\n",
              "      <td>3</td>\n",
              "      <td>3</td>\n",
              "      <td>4</td>\n",
              "      <td>4</td>\n",
              "      <td>3</td>\n",
              "      <td>3</td>\n",
              "      <td>3</td>\n",
              "      <td>0</td>\n",
              "      <td>0.0</td>\n",
              "      <td>satisfied</td>\n",
              "    </tr>\n",
              "  </tbody>\n",
              "</table>\n",
              "<p>5 rows × 25 columns</p>\n",
              "</div>\n",
              "      <button class=\"colab-df-convert\" onclick=\"convertToInteractive('df-9e12ee5b-99ad-4c80-a4e7-6a335a8f9090')\"\n",
              "              title=\"Convert this dataframe to an interactive table.\"\n",
              "              style=\"display:none;\">\n",
              "        \n",
              "  <svg xmlns=\"http://www.w3.org/2000/svg\" height=\"24px\"viewBox=\"0 0 24 24\"\n",
              "       width=\"24px\">\n",
              "    <path d=\"M0 0h24v24H0V0z\" fill=\"none\"/>\n",
              "    <path d=\"M18.56 5.44l.94 2.06.94-2.06 2.06-.94-2.06-.94-.94-2.06-.94 2.06-2.06.94zm-11 1L8.5 8.5l.94-2.06 2.06-.94-2.06-.94L8.5 2.5l-.94 2.06-2.06.94zm10 10l.94 2.06.94-2.06 2.06-.94-2.06-.94-.94-2.06-.94 2.06-2.06.94z\"/><path d=\"M17.41 7.96l-1.37-1.37c-.4-.4-.92-.59-1.43-.59-.52 0-1.04.2-1.43.59L10.3 9.45l-7.72 7.72c-.78.78-.78 2.05 0 2.83L4 21.41c.39.39.9.59 1.41.59.51 0 1.02-.2 1.41-.59l7.78-7.78 2.81-2.81c.8-.78.8-2.07 0-2.86zM5.41 20L4 18.59l7.72-7.72 1.47 1.35L5.41 20z\"/>\n",
              "  </svg>\n",
              "      </button>\n",
              "      \n",
              "  <style>\n",
              "    .colab-df-container {\n",
              "      display:flex;\n",
              "      flex-wrap:wrap;\n",
              "      gap: 12px;\n",
              "    }\n",
              "\n",
              "    .colab-df-convert {\n",
              "      background-color: #E8F0FE;\n",
              "      border: none;\n",
              "      border-radius: 50%;\n",
              "      cursor: pointer;\n",
              "      display: none;\n",
              "      fill: #1967D2;\n",
              "      height: 32px;\n",
              "      padding: 0 0 0 0;\n",
              "      width: 32px;\n",
              "    }\n",
              "\n",
              "    .colab-df-convert:hover {\n",
              "      background-color: #E2EBFA;\n",
              "      box-shadow: 0px 1px 2px rgba(60, 64, 67, 0.3), 0px 1px 3px 1px rgba(60, 64, 67, 0.15);\n",
              "      fill: #174EA6;\n",
              "    }\n",
              "\n",
              "    [theme=dark] .colab-df-convert {\n",
              "      background-color: #3B4455;\n",
              "      fill: #D2E3FC;\n",
              "    }\n",
              "\n",
              "    [theme=dark] .colab-df-convert:hover {\n",
              "      background-color: #434B5C;\n",
              "      box-shadow: 0px 1px 3px 1px rgba(0, 0, 0, 0.15);\n",
              "      filter: drop-shadow(0px 1px 2px rgba(0, 0, 0, 0.3));\n",
              "      fill: #FFFFFF;\n",
              "    }\n",
              "  </style>\n",
              "\n",
              "      <script>\n",
              "        const buttonEl =\n",
              "          document.querySelector('#df-9e12ee5b-99ad-4c80-a4e7-6a335a8f9090 button.colab-df-convert');\n",
              "        buttonEl.style.display =\n",
              "          google.colab.kernel.accessAllowed ? 'block' : 'none';\n",
              "\n",
              "        async function convertToInteractive(key) {\n",
              "          const element = document.querySelector('#df-9e12ee5b-99ad-4c80-a4e7-6a335a8f9090');\n",
              "          const dataTable =\n",
              "            await google.colab.kernel.invokeFunction('convertToInteractive',\n",
              "                                                     [key], {});\n",
              "          if (!dataTable) return;\n",
              "\n",
              "          const docLinkHtml = 'Like what you see? Visit the ' +\n",
              "            '<a target=\"_blank\" href=https://colab.research.google.com/notebooks/data_table.ipynb>data table notebook</a>'\n",
              "            + ' to learn more about interactive tables.';\n",
              "          element.innerHTML = '';\n",
              "          dataTable['output_type'] = 'display_data';\n",
              "          await google.colab.output.renderOutput(dataTable, element);\n",
              "          const docLink = document.createElement('div');\n",
              "          docLink.innerHTML = docLinkHtml;\n",
              "          element.appendChild(docLink);\n",
              "        }\n",
              "      </script>\n",
              "    </div>\n",
              "  </div>\n",
              "  "
            ]
          },
          "metadata": {},
          "execution_count": 4
        }
      ],
      "source": [
        "train_data = pd.read_csv(\"/content/drive/Shareddrives/Data Science Using Python/data/train.csv\")\n",
        "test_data = pd.read_csv(\"/content/drive/Shareddrives/Data Science Using Python/data/test.csv\")\n",
        "train_data.head()"
      ]
    },
    {
      "cell_type": "markdown",
      "metadata": {
        "id": "knCfdHrf9Usz"
      },
      "source": [
        "#Data Transformation"
      ]
    },
    {
      "cell_type": "code",
      "execution_count": null,
      "metadata": {
        "id": "EalGqlpG8fRQ",
        "colab": {
          "base_uri": "https://localhost:8080/",
          "height": 438
        },
        "outputId": "5f81453a-e506-457a-a183-25e97e68ca8a"
      },
      "outputs": [
        {
          "output_type": "execute_result",
          "data": {
            "text/plain": [
              "   Gender      Customer Type  Age   Type of Travel     Class  Flight Distance  \\\n",
              "0    Male     Loyal Customer   13  Personal Travel  Eco Plus              460   \n",
              "1    Male  disloyal Customer   25  Business travel  Business              235   \n",
              "2  Female     Loyal Customer   26  Business travel  Business             1142   \n",
              "3  Female     Loyal Customer   25  Business travel  Business              562   \n",
              "4    Male     Loyal Customer   61  Business travel  Business              214   \n",
              "\n",
              "   Inflight wifi service  Departure/Arrival time convenient  \\\n",
              "0                      3                                  4   \n",
              "1                      3                                  2   \n",
              "2                      2                                  2   \n",
              "3                      2                                  5   \n",
              "4                      3                                  3   \n",
              "\n",
              "   Ease of Online booking  Gate location  ...  Inflight entertainment  \\\n",
              "0                       3              1  ...                       5   \n",
              "1                       3              3  ...                       1   \n",
              "2                       2              2  ...                       5   \n",
              "3                       5              5  ...                       2   \n",
              "4                       3              3  ...                       3   \n",
              "\n",
              "   On-board service  Leg room service  Baggage handling  Checkin service  \\\n",
              "0                 4                 3                 4                4   \n",
              "1                 1                 5                 3                1   \n",
              "2                 4                 3                 4                4   \n",
              "3                 2                 5                 3                1   \n",
              "4                 3                 4                 4                3   \n",
              "\n",
              "   Inflight service  Cleanliness  Departure Delay in Minutes  \\\n",
              "0                 5            5                          25   \n",
              "1                 4            1                           1   \n",
              "2                 4            5                           0   \n",
              "3                 4            2                          11   \n",
              "4                 3            3                           0   \n",
              "\n",
              "   Arrival Delay in Minutes             satisfaction  \n",
              "0                      18.0  neutral or dissatisfied  \n",
              "1                       6.0  neutral or dissatisfied  \n",
              "2                       0.0                satisfied  \n",
              "3                       9.0  neutral or dissatisfied  \n",
              "4                       0.0                satisfied  \n",
              "\n",
              "[5 rows x 23 columns]"
            ],
            "text/html": [
              "\n",
              "  <div id=\"df-ac3afb0e-eff4-46eb-9363-849287fed5f9\">\n",
              "    <div class=\"colab-df-container\">\n",
              "      <div>\n",
              "<style scoped>\n",
              "    .dataframe tbody tr th:only-of-type {\n",
              "        vertical-align: middle;\n",
              "    }\n",
              "\n",
              "    .dataframe tbody tr th {\n",
              "        vertical-align: top;\n",
              "    }\n",
              "\n",
              "    .dataframe thead th {\n",
              "        text-align: right;\n",
              "    }\n",
              "</style>\n",
              "<table border=\"1\" class=\"dataframe\">\n",
              "  <thead>\n",
              "    <tr style=\"text-align: right;\">\n",
              "      <th></th>\n",
              "      <th>Gender</th>\n",
              "      <th>Customer Type</th>\n",
              "      <th>Age</th>\n",
              "      <th>Type of Travel</th>\n",
              "      <th>Class</th>\n",
              "      <th>Flight Distance</th>\n",
              "      <th>Inflight wifi service</th>\n",
              "      <th>Departure/Arrival time convenient</th>\n",
              "      <th>Ease of Online booking</th>\n",
              "      <th>Gate location</th>\n",
              "      <th>...</th>\n",
              "      <th>Inflight entertainment</th>\n",
              "      <th>On-board service</th>\n",
              "      <th>Leg room service</th>\n",
              "      <th>Baggage handling</th>\n",
              "      <th>Checkin service</th>\n",
              "      <th>Inflight service</th>\n",
              "      <th>Cleanliness</th>\n",
              "      <th>Departure Delay in Minutes</th>\n",
              "      <th>Arrival Delay in Minutes</th>\n",
              "      <th>satisfaction</th>\n",
              "    </tr>\n",
              "  </thead>\n",
              "  <tbody>\n",
              "    <tr>\n",
              "      <th>0</th>\n",
              "      <td>Male</td>\n",
              "      <td>Loyal Customer</td>\n",
              "      <td>13</td>\n",
              "      <td>Personal Travel</td>\n",
              "      <td>Eco Plus</td>\n",
              "      <td>460</td>\n",
              "      <td>3</td>\n",
              "      <td>4</td>\n",
              "      <td>3</td>\n",
              "      <td>1</td>\n",
              "      <td>...</td>\n",
              "      <td>5</td>\n",
              "      <td>4</td>\n",
              "      <td>3</td>\n",
              "      <td>4</td>\n",
              "      <td>4</td>\n",
              "      <td>5</td>\n",
              "      <td>5</td>\n",
              "      <td>25</td>\n",
              "      <td>18.0</td>\n",
              "      <td>neutral or dissatisfied</td>\n",
              "    </tr>\n",
              "    <tr>\n",
              "      <th>1</th>\n",
              "      <td>Male</td>\n",
              "      <td>disloyal Customer</td>\n",
              "      <td>25</td>\n",
              "      <td>Business travel</td>\n",
              "      <td>Business</td>\n",
              "      <td>235</td>\n",
              "      <td>3</td>\n",
              "      <td>2</td>\n",
              "      <td>3</td>\n",
              "      <td>3</td>\n",
              "      <td>...</td>\n",
              "      <td>1</td>\n",
              "      <td>1</td>\n",
              "      <td>5</td>\n",
              "      <td>3</td>\n",
              "      <td>1</td>\n",
              "      <td>4</td>\n",
              "      <td>1</td>\n",
              "      <td>1</td>\n",
              "      <td>6.0</td>\n",
              "      <td>neutral or dissatisfied</td>\n",
              "    </tr>\n",
              "    <tr>\n",
              "      <th>2</th>\n",
              "      <td>Female</td>\n",
              "      <td>Loyal Customer</td>\n",
              "      <td>26</td>\n",
              "      <td>Business travel</td>\n",
              "      <td>Business</td>\n",
              "      <td>1142</td>\n",
              "      <td>2</td>\n",
              "      <td>2</td>\n",
              "      <td>2</td>\n",
              "      <td>2</td>\n",
              "      <td>...</td>\n",
              "      <td>5</td>\n",
              "      <td>4</td>\n",
              "      <td>3</td>\n",
              "      <td>4</td>\n",
              "      <td>4</td>\n",
              "      <td>4</td>\n",
              "      <td>5</td>\n",
              "      <td>0</td>\n",
              "      <td>0.0</td>\n",
              "      <td>satisfied</td>\n",
              "    </tr>\n",
              "    <tr>\n",
              "      <th>3</th>\n",
              "      <td>Female</td>\n",
              "      <td>Loyal Customer</td>\n",
              "      <td>25</td>\n",
              "      <td>Business travel</td>\n",
              "      <td>Business</td>\n",
              "      <td>562</td>\n",
              "      <td>2</td>\n",
              "      <td>5</td>\n",
              "      <td>5</td>\n",
              "      <td>5</td>\n",
              "      <td>...</td>\n",
              "      <td>2</td>\n",
              "      <td>2</td>\n",
              "      <td>5</td>\n",
              "      <td>3</td>\n",
              "      <td>1</td>\n",
              "      <td>4</td>\n",
              "      <td>2</td>\n",
              "      <td>11</td>\n",
              "      <td>9.0</td>\n",
              "      <td>neutral or dissatisfied</td>\n",
              "    </tr>\n",
              "    <tr>\n",
              "      <th>4</th>\n",
              "      <td>Male</td>\n",
              "      <td>Loyal Customer</td>\n",
              "      <td>61</td>\n",
              "      <td>Business travel</td>\n",
              "      <td>Business</td>\n",
              "      <td>214</td>\n",
              "      <td>3</td>\n",
              "      <td>3</td>\n",
              "      <td>3</td>\n",
              "      <td>3</td>\n",
              "      <td>...</td>\n",
              "      <td>3</td>\n",
              "      <td>3</td>\n",
              "      <td>4</td>\n",
              "      <td>4</td>\n",
              "      <td>3</td>\n",
              "      <td>3</td>\n",
              "      <td>3</td>\n",
              "      <td>0</td>\n",
              "      <td>0.0</td>\n",
              "      <td>satisfied</td>\n",
              "    </tr>\n",
              "  </tbody>\n",
              "</table>\n",
              "<p>5 rows × 23 columns</p>\n",
              "</div>\n",
              "      <button class=\"colab-df-convert\" onclick=\"convertToInteractive('df-ac3afb0e-eff4-46eb-9363-849287fed5f9')\"\n",
              "              title=\"Convert this dataframe to an interactive table.\"\n",
              "              style=\"display:none;\">\n",
              "        \n",
              "  <svg xmlns=\"http://www.w3.org/2000/svg\" height=\"24px\"viewBox=\"0 0 24 24\"\n",
              "       width=\"24px\">\n",
              "    <path d=\"M0 0h24v24H0V0z\" fill=\"none\"/>\n",
              "    <path d=\"M18.56 5.44l.94 2.06.94-2.06 2.06-.94-2.06-.94-.94-2.06-.94 2.06-2.06.94zm-11 1L8.5 8.5l.94-2.06 2.06-.94-2.06-.94L8.5 2.5l-.94 2.06-2.06.94zm10 10l.94 2.06.94-2.06 2.06-.94-2.06-.94-.94-2.06-.94 2.06-2.06.94z\"/><path d=\"M17.41 7.96l-1.37-1.37c-.4-.4-.92-.59-1.43-.59-.52 0-1.04.2-1.43.59L10.3 9.45l-7.72 7.72c-.78.78-.78 2.05 0 2.83L4 21.41c.39.39.9.59 1.41.59.51 0 1.02-.2 1.41-.59l7.78-7.78 2.81-2.81c.8-.78.8-2.07 0-2.86zM5.41 20L4 18.59l7.72-7.72 1.47 1.35L5.41 20z\"/>\n",
              "  </svg>\n",
              "      </button>\n",
              "      \n",
              "  <style>\n",
              "    .colab-df-container {\n",
              "      display:flex;\n",
              "      flex-wrap:wrap;\n",
              "      gap: 12px;\n",
              "    }\n",
              "\n",
              "    .colab-df-convert {\n",
              "      background-color: #E8F0FE;\n",
              "      border: none;\n",
              "      border-radius: 50%;\n",
              "      cursor: pointer;\n",
              "      display: none;\n",
              "      fill: #1967D2;\n",
              "      height: 32px;\n",
              "      padding: 0 0 0 0;\n",
              "      width: 32px;\n",
              "    }\n",
              "\n",
              "    .colab-df-convert:hover {\n",
              "      background-color: #E2EBFA;\n",
              "      box-shadow: 0px 1px 2px rgba(60, 64, 67, 0.3), 0px 1px 3px 1px rgba(60, 64, 67, 0.15);\n",
              "      fill: #174EA6;\n",
              "    }\n",
              "\n",
              "    [theme=dark] .colab-df-convert {\n",
              "      background-color: #3B4455;\n",
              "      fill: #D2E3FC;\n",
              "    }\n",
              "\n",
              "    [theme=dark] .colab-df-convert:hover {\n",
              "      background-color: #434B5C;\n",
              "      box-shadow: 0px 1px 3px 1px rgba(0, 0, 0, 0.15);\n",
              "      filter: drop-shadow(0px 1px 2px rgba(0, 0, 0, 0.3));\n",
              "      fill: #FFFFFF;\n",
              "    }\n",
              "  </style>\n",
              "\n",
              "      <script>\n",
              "        const buttonEl =\n",
              "          document.querySelector('#df-ac3afb0e-eff4-46eb-9363-849287fed5f9 button.colab-df-convert');\n",
              "        buttonEl.style.display =\n",
              "          google.colab.kernel.accessAllowed ? 'block' : 'none';\n",
              "\n",
              "        async function convertToInteractive(key) {\n",
              "          const element = document.querySelector('#df-ac3afb0e-eff4-46eb-9363-849287fed5f9');\n",
              "          const dataTable =\n",
              "            await google.colab.kernel.invokeFunction('convertToInteractive',\n",
              "                                                     [key], {});\n",
              "          if (!dataTable) return;\n",
              "\n",
              "          const docLinkHtml = 'Like what you see? Visit the ' +\n",
              "            '<a target=\"_blank\" href=https://colab.research.google.com/notebooks/data_table.ipynb>data table notebook</a>'\n",
              "            + ' to learn more about interactive tables.';\n",
              "          element.innerHTML = '';\n",
              "          dataTable['output_type'] = 'display_data';\n",
              "          await google.colab.output.renderOutput(dataTable, element);\n",
              "          const docLink = document.createElement('div');\n",
              "          docLink.innerHTML = docLinkHtml;\n",
              "          element.appendChild(docLink);\n",
              "        }\n",
              "      </script>\n",
              "    </div>\n",
              "  </div>\n",
              "  "
            ]
          },
          "metadata": {},
          "execution_count": 5
        }
      ],
      "source": [
        "# Drop unnecessary columns\n",
        "train_data.drop(['Unnamed: 0', 'id'], axis=1,inplace=True)\n",
        "test_data.drop(['Unnamed: 0', 'id'], axis=1,inplace=True)\n",
        "train_data.head()"
      ]
    },
    {
      "cell_type": "markdown",
      "metadata": {
        "id": "QeHRJhxC9w7J"
      },
      "source": [
        "##Checking for Null values"
      ]
    },
    {
      "cell_type": "code",
      "execution_count": null,
      "metadata": {
        "id": "s-RLWT4OQumM",
        "colab": {
          "base_uri": "https://localhost:8080/"
        },
        "outputId": "83c3fdff-9813-4fee-863b-25d2c1ceba75"
      },
      "outputs": [
        {
          "output_type": "execute_result",
          "data": {
            "text/plain": [
              "Gender                                 0\n",
              "Customer Type                          0\n",
              "Age                                    0\n",
              "Type of Travel                         0\n",
              "Class                                  0\n",
              "Flight Distance                        0\n",
              "Inflight wifi service                  0\n",
              "Departure/Arrival time convenient      0\n",
              "Ease of Online booking                 0\n",
              "Gate location                          0\n",
              "Food and drink                         0\n",
              "Online boarding                        0\n",
              "Seat comfort                           0\n",
              "Inflight entertainment                 0\n",
              "On-board service                       0\n",
              "Leg room service                       0\n",
              "Baggage handling                       0\n",
              "Checkin service                        0\n",
              "Inflight service                       0\n",
              "Cleanliness                            0\n",
              "Departure Delay in Minutes             0\n",
              "Arrival Delay in Minutes             310\n",
              "satisfaction                           0\n",
              "dtype: int64"
            ]
          },
          "metadata": {},
          "execution_count": 6
        }
      ],
      "source": [
        "train_data.isnull().sum()"
      ]
    },
    {
      "cell_type": "markdown",
      "metadata": {
        "id": "CjZRfw1l94VL"
      },
      "source": [
        "##Mean value Imputation"
      ]
    },
    {
      "cell_type": "code",
      "execution_count": null,
      "metadata": {
        "id": "Wwf19HeBC_ZK"
      },
      "outputs": [],
      "source": [
        "train_data['Arrival Delay in Minutes'] = train_data['Arrival Delay in Minutes'].fillna(train_data['Arrival Delay in Minutes'].mean())\n",
        "test_data['Arrival Delay in Minutes'] = test_data['Arrival Delay in Minutes'].fillna(test_data['Arrival Delay in Minutes'].mean())"
      ]
    },
    {
      "cell_type": "code",
      "execution_count": null,
      "metadata": {
        "id": "oXZ8ej0IAR1_"
      },
      "outputs": [],
      "source": [
        "train_data.isnull().sum()"
      ]
    },
    {
      "cell_type": "markdown",
      "metadata": {
        "id": "t9RuBexFKycR"
      },
      "source": [
        "##Outliers"
      ]
    },
    {
      "cell_type": "code",
      "execution_count": null,
      "metadata": {
        "id": "e6eaGXhbI0ZE",
        "colab": {
          "base_uri": "https://localhost:8080/"
        },
        "outputId": "2ba0c307-5ca8-437b-b035-aa657fdf5cb9"
      },
      "outputs": [
        {
          "output_type": "stream",
          "name": "stdout",
          "text": [
            "Age                                    24.0\n",
            "Flight Distance                      1329.0\n",
            "Inflight wifi service                   2.0\n",
            "Departure/Arrival time convenient       2.0\n",
            "Ease of Online booking                  2.0\n",
            "Gate location                           2.0\n",
            "Food and drink                          2.0\n",
            "Online boarding                         2.0\n",
            "Seat comfort                            3.0\n",
            "Inflight entertainment                  2.0\n",
            "On-board service                        2.0\n",
            "Leg room service                        2.0\n",
            "Baggage handling                        2.0\n",
            "Checkin service                         1.0\n",
            "Inflight service                        2.0\n",
            "Cleanliness                             2.0\n",
            "Departure Delay in Minutes             12.0\n",
            "Arrival Delay in Minutes               13.0\n",
            "dtype: float64\n"
          ]
        },
        {
          "output_type": "execute_result",
          "data": {
            "text/plain": [
              "(103904, 23)"
            ]
          },
          "metadata": {},
          "execution_count": 9
        }
      ],
      "source": [
        "Q1 = train_data.quantile(.25)\n",
        "Q3 = train_data.quantile(.75)\n",
        "IQR = Q3-Q1\n",
        "print(IQR)"
      ]
    },
    {
      "cell_type": "code",
      "execution_count": null,
      "metadata": {
        "id": "jnY30KgLJdGu",
        "colab": {
          "base_uri": "https://localhost:8080/"
        },
        "outputId": "2cc28f14-6168-40a8-b4ef-5d76f813cdf3"
      },
      "outputs": [
        {
          "output_type": "stream",
          "name": "stderr",
          "text": [
            "/usr/local/lib/python3.7/dist-packages/ipykernel_launcher.py:3: FutureWarning: Automatic reindexing on DataFrame vs Series comparisons is deprecated and will raise ValueError in a future version.  Do `left, right = left.align(right, axis=1, copy=False)` before e.g. `left == right`\n",
            "  This is separate from the ipykernel package so we can avoid doing imports until\n",
            "/usr/local/lib/python3.7/dist-packages/ipykernel_launcher.py:4: FutureWarning: Automatic reindexing on DataFrame vs Series comparisons is deprecated and will raise ValueError in a future version.  Do `left, right = left.align(right, axis=1, copy=False)` before e.g. `left == right`\n",
            "  after removing the cwd from sys.path.\n"
          ]
        }
      ],
      "source": [
        "# Removal of outliers from dataset\n",
        "# if a data point is defined as an outlier, save as true\n",
        "drop = ((train_data < (Q1 - 1.5 * IQR))\n",
        "         | (train_data > (Q3 + 1.5 * IQR)))\n",
        "# remove the outliers        \n",
        "train_data = train_data[~(drop).any(axis=1)]"
      ]
    },
    {
      "cell_type": "code",
      "execution_count": null,
      "metadata": {
        "id": "tTmVFc0vMNfj",
        "colab": {
          "base_uri": "https://localhost:8080/",
          "height": 399
        },
        "outputId": "a01d5cdf-bb49-4da3-ed95-198062b59401"
      },
      "outputs": [
        {
          "output_type": "execute_result",
          "data": {
            "text/plain": [
              "                Age  Flight Distance  Inflight wifi service  \\\n",
              "count  74931.000000     74931.000000           74931.000000   \n",
              "mean      39.469832      1147.115827               2.752399   \n",
              "std       15.101783       929.339061               1.346820   \n",
              "min        7.000000        31.000000               0.000000   \n",
              "25%       27.000000       409.000000               2.000000   \n",
              "50%       40.000000       836.000000               3.000000   \n",
              "75%       51.000000      1709.000000               4.000000   \n",
              "max       85.000000      3736.000000               5.000000   \n",
              "\n",
              "       Departure/Arrival time convenient  Ease of Online booking  \\\n",
              "count                       74931.000000            74931.000000   \n",
              "mean                            3.099652                2.763516   \n",
              "std                             1.537766                1.404885   \n",
              "min                             0.000000                0.000000   \n",
              "25%                             2.000000                2.000000   \n",
              "50%                             3.000000                3.000000   \n",
              "75%                             4.000000                4.000000   \n",
              "max                             5.000000                5.000000   \n",
              "\n",
              "       Gate location  Food and drink  Online boarding  Seat comfort  \\\n",
              "count   74931.000000    74931.000000     74931.000000  74931.000000   \n",
              "mean        2.963353        3.237792         3.313515      3.499446   \n",
              "std         1.284912        1.320460         1.354357      1.314857   \n",
              "min         0.000000        0.000000         0.000000      1.000000   \n",
              "25%         2.000000        2.000000         2.000000      3.000000   \n",
              "50%         3.000000        3.000000         4.000000      4.000000   \n",
              "75%         4.000000        4.000000         4.000000      5.000000   \n",
              "max         5.000000        5.000000         5.000000      5.000000   \n",
              "\n",
              "       Inflight entertainment  On-board service  Leg room service  \\\n",
              "count            74931.000000      74931.000000      74931.000000   \n",
              "mean                 3.401169          3.472021          3.394430   \n",
              "std                  1.330237          1.263877          1.303823   \n",
              "min                  0.000000          0.000000          0.000000   \n",
              "25%                  2.000000          3.000000          2.000000   \n",
              "50%                  4.000000          4.000000          4.000000   \n",
              "75%                  5.000000          4.000000          4.000000   \n",
              "max                  5.000000          5.000000          5.000000   \n",
              "\n",
              "       Baggage handling  Checkin service  Inflight service   Cleanliness  \\\n",
              "count      74931.000000      74931.00000      74931.000000  74931.000000   \n",
              "mean           3.706623          3.63764          3.729831      3.341301   \n",
              "std            1.172029          0.98332          1.159913      1.300071   \n",
              "min            1.000000          2.00000          0.000000      0.000000   \n",
              "25%            3.000000          3.00000          3.000000      2.000000   \n",
              "50%            4.000000          4.00000          4.000000      3.000000   \n",
              "75%            5.000000          4.00000          5.000000      4.000000   \n",
              "max            5.000000          5.00000          5.000000      5.000000   \n",
              "\n",
              "       Departure Delay in Minutes  Arrival Delay in Minutes  \n",
              "count                74931.000000              74931.000000  \n",
              "mean                     3.463413                  3.534633  \n",
              "std                      6.740086                  6.766589  \n",
              "min                      0.000000                  0.000000  \n",
              "25%                      0.000000                  0.000000  \n",
              "50%                      0.000000                  0.000000  \n",
              "75%                      4.000000                  4.000000  \n",
              "max                     30.000000                 32.000000  "
            ],
            "text/html": [
              "\n",
              "  <div id=\"df-d13c4599-e2a0-4db4-a40d-aa8d4f1f688e\">\n",
              "    <div class=\"colab-df-container\">\n",
              "      <div>\n",
              "<style scoped>\n",
              "    .dataframe tbody tr th:only-of-type {\n",
              "        vertical-align: middle;\n",
              "    }\n",
              "\n",
              "    .dataframe tbody tr th {\n",
              "        vertical-align: top;\n",
              "    }\n",
              "\n",
              "    .dataframe thead th {\n",
              "        text-align: right;\n",
              "    }\n",
              "</style>\n",
              "<table border=\"1\" class=\"dataframe\">\n",
              "  <thead>\n",
              "    <tr style=\"text-align: right;\">\n",
              "      <th></th>\n",
              "      <th>Age</th>\n",
              "      <th>Flight Distance</th>\n",
              "      <th>Inflight wifi service</th>\n",
              "      <th>Departure/Arrival time convenient</th>\n",
              "      <th>Ease of Online booking</th>\n",
              "      <th>Gate location</th>\n",
              "      <th>Food and drink</th>\n",
              "      <th>Online boarding</th>\n",
              "      <th>Seat comfort</th>\n",
              "      <th>Inflight entertainment</th>\n",
              "      <th>On-board service</th>\n",
              "      <th>Leg room service</th>\n",
              "      <th>Baggage handling</th>\n",
              "      <th>Checkin service</th>\n",
              "      <th>Inflight service</th>\n",
              "      <th>Cleanliness</th>\n",
              "      <th>Departure Delay in Minutes</th>\n",
              "      <th>Arrival Delay in Minutes</th>\n",
              "    </tr>\n",
              "  </thead>\n",
              "  <tbody>\n",
              "    <tr>\n",
              "      <th>count</th>\n",
              "      <td>74931.000000</td>\n",
              "      <td>74931.000000</td>\n",
              "      <td>74931.000000</td>\n",
              "      <td>74931.000000</td>\n",
              "      <td>74931.000000</td>\n",
              "      <td>74931.000000</td>\n",
              "      <td>74931.000000</td>\n",
              "      <td>74931.000000</td>\n",
              "      <td>74931.000000</td>\n",
              "      <td>74931.000000</td>\n",
              "      <td>74931.000000</td>\n",
              "      <td>74931.000000</td>\n",
              "      <td>74931.000000</td>\n",
              "      <td>74931.00000</td>\n",
              "      <td>74931.000000</td>\n",
              "      <td>74931.000000</td>\n",
              "      <td>74931.000000</td>\n",
              "      <td>74931.000000</td>\n",
              "    </tr>\n",
              "    <tr>\n",
              "      <th>mean</th>\n",
              "      <td>39.469832</td>\n",
              "      <td>1147.115827</td>\n",
              "      <td>2.752399</td>\n",
              "      <td>3.099652</td>\n",
              "      <td>2.763516</td>\n",
              "      <td>2.963353</td>\n",
              "      <td>3.237792</td>\n",
              "      <td>3.313515</td>\n",
              "      <td>3.499446</td>\n",
              "      <td>3.401169</td>\n",
              "      <td>3.472021</td>\n",
              "      <td>3.394430</td>\n",
              "      <td>3.706623</td>\n",
              "      <td>3.63764</td>\n",
              "      <td>3.729831</td>\n",
              "      <td>3.341301</td>\n",
              "      <td>3.463413</td>\n",
              "      <td>3.534633</td>\n",
              "    </tr>\n",
              "    <tr>\n",
              "      <th>std</th>\n",
              "      <td>15.101783</td>\n",
              "      <td>929.339061</td>\n",
              "      <td>1.346820</td>\n",
              "      <td>1.537766</td>\n",
              "      <td>1.404885</td>\n",
              "      <td>1.284912</td>\n",
              "      <td>1.320460</td>\n",
              "      <td>1.354357</td>\n",
              "      <td>1.314857</td>\n",
              "      <td>1.330237</td>\n",
              "      <td>1.263877</td>\n",
              "      <td>1.303823</td>\n",
              "      <td>1.172029</td>\n",
              "      <td>0.98332</td>\n",
              "      <td>1.159913</td>\n",
              "      <td>1.300071</td>\n",
              "      <td>6.740086</td>\n",
              "      <td>6.766589</td>\n",
              "    </tr>\n",
              "    <tr>\n",
              "      <th>min</th>\n",
              "      <td>7.000000</td>\n",
              "      <td>31.000000</td>\n",
              "      <td>0.000000</td>\n",
              "      <td>0.000000</td>\n",
              "      <td>0.000000</td>\n",
              "      <td>0.000000</td>\n",
              "      <td>0.000000</td>\n",
              "      <td>0.000000</td>\n",
              "      <td>1.000000</td>\n",
              "      <td>0.000000</td>\n",
              "      <td>0.000000</td>\n",
              "      <td>0.000000</td>\n",
              "      <td>1.000000</td>\n",
              "      <td>2.00000</td>\n",
              "      <td>0.000000</td>\n",
              "      <td>0.000000</td>\n",
              "      <td>0.000000</td>\n",
              "      <td>0.000000</td>\n",
              "    </tr>\n",
              "    <tr>\n",
              "      <th>25%</th>\n",
              "      <td>27.000000</td>\n",
              "      <td>409.000000</td>\n",
              "      <td>2.000000</td>\n",
              "      <td>2.000000</td>\n",
              "      <td>2.000000</td>\n",
              "      <td>2.000000</td>\n",
              "      <td>2.000000</td>\n",
              "      <td>2.000000</td>\n",
              "      <td>3.000000</td>\n",
              "      <td>2.000000</td>\n",
              "      <td>3.000000</td>\n",
              "      <td>2.000000</td>\n",
              "      <td>3.000000</td>\n",
              "      <td>3.00000</td>\n",
              "      <td>3.000000</td>\n",
              "      <td>2.000000</td>\n",
              "      <td>0.000000</td>\n",
              "      <td>0.000000</td>\n",
              "    </tr>\n",
              "    <tr>\n",
              "      <th>50%</th>\n",
              "      <td>40.000000</td>\n",
              "      <td>836.000000</td>\n",
              "      <td>3.000000</td>\n",
              "      <td>3.000000</td>\n",
              "      <td>3.000000</td>\n",
              "      <td>3.000000</td>\n",
              "      <td>3.000000</td>\n",
              "      <td>4.000000</td>\n",
              "      <td>4.000000</td>\n",
              "      <td>4.000000</td>\n",
              "      <td>4.000000</td>\n",
              "      <td>4.000000</td>\n",
              "      <td>4.000000</td>\n",
              "      <td>4.00000</td>\n",
              "      <td>4.000000</td>\n",
              "      <td>3.000000</td>\n",
              "      <td>0.000000</td>\n",
              "      <td>0.000000</td>\n",
              "    </tr>\n",
              "    <tr>\n",
              "      <th>75%</th>\n",
              "      <td>51.000000</td>\n",
              "      <td>1709.000000</td>\n",
              "      <td>4.000000</td>\n",
              "      <td>4.000000</td>\n",
              "      <td>4.000000</td>\n",
              "      <td>4.000000</td>\n",
              "      <td>4.000000</td>\n",
              "      <td>4.000000</td>\n",
              "      <td>5.000000</td>\n",
              "      <td>5.000000</td>\n",
              "      <td>4.000000</td>\n",
              "      <td>4.000000</td>\n",
              "      <td>5.000000</td>\n",
              "      <td>4.00000</td>\n",
              "      <td>5.000000</td>\n",
              "      <td>4.000000</td>\n",
              "      <td>4.000000</td>\n",
              "      <td>4.000000</td>\n",
              "    </tr>\n",
              "    <tr>\n",
              "      <th>max</th>\n",
              "      <td>85.000000</td>\n",
              "      <td>3736.000000</td>\n",
              "      <td>5.000000</td>\n",
              "      <td>5.000000</td>\n",
              "      <td>5.000000</td>\n",
              "      <td>5.000000</td>\n",
              "      <td>5.000000</td>\n",
              "      <td>5.000000</td>\n",
              "      <td>5.000000</td>\n",
              "      <td>5.000000</td>\n",
              "      <td>5.000000</td>\n",
              "      <td>5.000000</td>\n",
              "      <td>5.000000</td>\n",
              "      <td>5.00000</td>\n",
              "      <td>5.000000</td>\n",
              "      <td>5.000000</td>\n",
              "      <td>30.000000</td>\n",
              "      <td>32.000000</td>\n",
              "    </tr>\n",
              "  </tbody>\n",
              "</table>\n",
              "</div>\n",
              "      <button class=\"colab-df-convert\" onclick=\"convertToInteractive('df-d13c4599-e2a0-4db4-a40d-aa8d4f1f688e')\"\n",
              "              title=\"Convert this dataframe to an interactive table.\"\n",
              "              style=\"display:none;\">\n",
              "        \n",
              "  <svg xmlns=\"http://www.w3.org/2000/svg\" height=\"24px\"viewBox=\"0 0 24 24\"\n",
              "       width=\"24px\">\n",
              "    <path d=\"M0 0h24v24H0V0z\" fill=\"none\"/>\n",
              "    <path d=\"M18.56 5.44l.94 2.06.94-2.06 2.06-.94-2.06-.94-.94-2.06-.94 2.06-2.06.94zm-11 1L8.5 8.5l.94-2.06 2.06-.94-2.06-.94L8.5 2.5l-.94 2.06-2.06.94zm10 10l.94 2.06.94-2.06 2.06-.94-2.06-.94-.94-2.06-.94 2.06-2.06.94z\"/><path d=\"M17.41 7.96l-1.37-1.37c-.4-.4-.92-.59-1.43-.59-.52 0-1.04.2-1.43.59L10.3 9.45l-7.72 7.72c-.78.78-.78 2.05 0 2.83L4 21.41c.39.39.9.59 1.41.59.51 0 1.02-.2 1.41-.59l7.78-7.78 2.81-2.81c.8-.78.8-2.07 0-2.86zM5.41 20L4 18.59l7.72-7.72 1.47 1.35L5.41 20z\"/>\n",
              "  </svg>\n",
              "      </button>\n",
              "      \n",
              "  <style>\n",
              "    .colab-df-container {\n",
              "      display:flex;\n",
              "      flex-wrap:wrap;\n",
              "      gap: 12px;\n",
              "    }\n",
              "\n",
              "    .colab-df-convert {\n",
              "      background-color: #E8F0FE;\n",
              "      border: none;\n",
              "      border-radius: 50%;\n",
              "      cursor: pointer;\n",
              "      display: none;\n",
              "      fill: #1967D2;\n",
              "      height: 32px;\n",
              "      padding: 0 0 0 0;\n",
              "      width: 32px;\n",
              "    }\n",
              "\n",
              "    .colab-df-convert:hover {\n",
              "      background-color: #E2EBFA;\n",
              "      box-shadow: 0px 1px 2px rgba(60, 64, 67, 0.3), 0px 1px 3px 1px rgba(60, 64, 67, 0.15);\n",
              "      fill: #174EA6;\n",
              "    }\n",
              "\n",
              "    [theme=dark] .colab-df-convert {\n",
              "      background-color: #3B4455;\n",
              "      fill: #D2E3FC;\n",
              "    }\n",
              "\n",
              "    [theme=dark] .colab-df-convert:hover {\n",
              "      background-color: #434B5C;\n",
              "      box-shadow: 0px 1px 3px 1px rgba(0, 0, 0, 0.15);\n",
              "      filter: drop-shadow(0px 1px 2px rgba(0, 0, 0, 0.3));\n",
              "      fill: #FFFFFF;\n",
              "    }\n",
              "  </style>\n",
              "\n",
              "      <script>\n",
              "        const buttonEl =\n",
              "          document.querySelector('#df-d13c4599-e2a0-4db4-a40d-aa8d4f1f688e button.colab-df-convert');\n",
              "        buttonEl.style.display =\n",
              "          google.colab.kernel.accessAllowed ? 'block' : 'none';\n",
              "\n",
              "        async function convertToInteractive(key) {\n",
              "          const element = document.querySelector('#df-d13c4599-e2a0-4db4-a40d-aa8d4f1f688e');\n",
              "          const dataTable =\n",
              "            await google.colab.kernel.invokeFunction('convertToInteractive',\n",
              "                                                     [key], {});\n",
              "          if (!dataTable) return;\n",
              "\n",
              "          const docLinkHtml = 'Like what you see? Visit the ' +\n",
              "            '<a target=\"_blank\" href=https://colab.research.google.com/notebooks/data_table.ipynb>data table notebook</a>'\n",
              "            + ' to learn more about interactive tables.';\n",
              "          element.innerHTML = '';\n",
              "          dataTable['output_type'] = 'display_data';\n",
              "          await google.colab.output.renderOutput(dataTable, element);\n",
              "          const docLink = document.createElement('div');\n",
              "          docLink.innerHTML = docLinkHtml;\n",
              "          element.appendChild(docLink);\n",
              "        }\n",
              "      </script>\n",
              "    </div>\n",
              "  </div>\n",
              "  "
            ]
          },
          "metadata": {},
          "execution_count": 12
        }
      ],
      "source": [
        "train_data.describe()"
      ]
    },
    {
      "cell_type": "code",
      "execution_count": null,
      "metadata": {
        "id": "4Wy2UDLChJfD"
      },
      "outputs": [],
      "source": [
        "train_data.info()"
      ]
    },
    {
      "cell_type": "code",
      "execution_count": null,
      "metadata": {
        "id": "t6F83ORuWBO5"
      },
      "outputs": [],
      "source": [
        "%%javascript\n",
        "IPython.OutputArea.prototype._should_scroll = function(lines) {\n",
        "    return false;\n",
        "}"
      ]
    },
    {
      "cell_type": "markdown",
      "metadata": {
        "id": "2qvrtgy6-V0c"
      },
      "source": [
        "#Data Visualization"
      ]
    },
    {
      "cell_type": "code",
      "execution_count": null,
      "metadata": {
        "id": "aJS6jvzT6KVY"
      },
      "outputs": [],
      "source": [
        "import pandas_profiling as pp\n",
        "profile = pp.ProfileReport(train_data, title = \"Exploratory Data Analysis\")"
      ]
    },
    {
      "cell_type": "code",
      "execution_count": null,
      "metadata": {
        "id": "kF2dgwt_Wr4r"
      },
      "outputs": [],
      "source": [
        "profile.to_notebook_iframe()"
      ]
    },
    {
      "cell_type": "code",
      "execution_count": null,
      "metadata": {
        "id": "2lOiOyCax-TQ"
      },
      "outputs": [],
      "source": [
        "train_data.head()"
      ]
    },
    {
      "cell_type": "markdown",
      "metadata": {
        "id": "_lA3pQXIkGMo"
      },
      "source": [
        "#Using Labelencoder to encode categorical fields"
      ]
    },
    {
      "cell_type": "code",
      "execution_count": null,
      "metadata": {
        "id": "07tokHdanrBZ"
      },
      "outputs": [],
      "source": [
        "#Seggregating numerical and categorical columns\n",
        "All_columns = train_data.columns\n",
        "Numerical_Columns=train_data._get_numeric_data().columns\n",
        "Categorical_Columns= list(set(All_columns)-set(Numerical_Columns))\n",
        "Categorical_Columns"
      ]
    },
    {
      "cell_type": "code",
      "execution_count": null,
      "metadata": {
        "id": "y5sFjm3NiVXp"
      },
      "outputs": [],
      "source": [
        "# Catergocial columns unique values before Label Encoding\n",
        "for i in Categorical_Columns:\n",
        "   print(\"train_data[\"+i+\"]\", train_data[i].unique())\n",
        "   print(\"test_data[\"+i+\"]\", test_data[i].unique())"
      ]
    },
    {
      "cell_type": "code",
      "execution_count": null,
      "metadata": {
        "id": "xACB4dcRcfRS"
      },
      "outputs": [],
      "source": [
        "#Label Encoding categorical vairables for ease of modeling\n",
        "from sklearn import preprocessing\n",
        "le= preprocessing.LabelEncoder()\n",
        "for i in Categorical_Columns:\n",
        "  train_data[i]=le.fit_transform(train_data[i].values)\n",
        "  test_data[i]=le.fit_transform(test_data[i].values)"
      ]
    },
    {
      "cell_type": "code",
      "execution_count": null,
      "metadata": {
        "id": "wwmcisb0jCXy"
      },
      "outputs": [],
      "source": [
        "# Catergocial columns unique values before Label Encoding\n",
        "for i in Categorical_Columns:\n",
        "  print(\"train_data[\"+i+\"]\", train_data[i].unique())\n",
        "  print(\"test_data[\"+i+\"]\", train_data[i].unique())\n",
        "# train_data.head()\n",
        "# test_data.head()"
      ]
    },
    {
      "cell_type": "code",
      "execution_count": null,
      "metadata": {
        "id": "cPIuArXbjdH4"
      },
      "outputs": [],
      "source": [
        "#Saving the Cleaned File for reference\n",
        "train_data.to_csv(\"/content/drive/Shareddrives/Data Science Using Python/data/airline_cleaned_data.csv\")"
      ]
    },
    {
      "cell_type": "markdown",
      "metadata": {
        "id": "Bno8p8U3mZlO"
      },
      "source": [
        "##Correlation Matrix"
      ]
    },
    {
      "cell_type": "code",
      "execution_count": null,
      "metadata": {
        "id": "N02MfDNfHPjl"
      },
      "outputs": [],
      "source": [
        "rs = np.random.RandomState(0)\n",
        "df= train_data.iloc[:,:22].copy()\n",
        "corr = df.corr()\n",
        "plt.figure(figsize=(20,11))\n",
        "sns.heatmap(corr, cmap=\"Greens\",annot=True)\n",
        "plt.show()"
      ]
    },
    {
      "cell_type": "markdown",
      "metadata": {
        "id": "5LpXtqkVVrnC"
      },
      "source": [
        "#Feature selection using Chi-Square Test"
      ]
    },
    {
      "cell_type": "code",
      "execution_count": null,
      "metadata": {
        "id": "XaL0f8famOkS"
      },
      "outputs": [],
      "source": [
        "x_train = train_data.iloc[:,:22]\n",
        "y_train = train_data[['satisfaction']]\n",
        "x_test = test_data.iloc[:,:22]\n",
        "y_test = test_data[['satisfaction']]\n",
        "x_train.head()"
      ]
    },
    {
      "cell_type": "code",
      "execution_count": null,
      "metadata": {
        "id": "XrLgvLwUoUY6"
      },
      "outputs": [],
      "source": [
        "mms = MinMaxScaler()\n",
        "x_train_std = pd.DataFrame(mms.fit_transform(x_train), columns=x_train.columns)\n",
        "x_test_std = pd.DataFrame(mms.fit_transform(x_test), columns=x_test.columns)\n",
        "x_train_std.head()"
      ]
    },
    {
      "cell_type": "code",
      "execution_count": null,
      "metadata": {
        "id": "2ZmX0oQmWeKH"
      },
      "outputs": [],
      "source": [
        "selector = SelectKBest(chi2, k=10)\n",
        "selector.fit(x_train_std, y_train)\n",
        "selector.transform(x_train_std)\n",
        "BestColumns=x_train_std.columns[selector.get_support(indices=True)].tolist()\n",
        "x_train_std=x_train_std[BestColumns]\n",
        "x_test_std=x_test_std[BestColumns]\n",
        "print(\"List of highly effective columns\", BestColumns)"
      ]
    },
    {
      "cell_type": "markdown",
      "metadata": {
        "id": "Kg--E_lsB8la"
      },
      "source": [
        "#Modeling"
      ]
    },
    {
      "cell_type": "markdown",
      "metadata": {
        "id": "mBf471KANchn"
      },
      "source": [
        "##Decision Tree"
      ]
    },
    {
      "cell_type": "code",
      "execution_count": null,
      "metadata": {
        "id": "mi8pn7ZbR09P"
      },
      "outputs": [],
      "source": [
        " #Decision_tree\n",
        "Dtree = DecisionTreeClassifier(criterion='entropy', random_state=1)\n",
        "Dtree.fit(x_train_std, y_train)\n",
        "y_pred = Dtree.predict(x_test_std)\n",
        "# Fit Statistics for DecisionTree\n",
        "FitStatCalculation('Decision Tree',Dtree, y_test, y_pred, x_test_std)\n"
      ]
    },
    {
      "cell_type": "markdown",
      "metadata": {
        "id": "NP6FtqYiHI81"
      },
      "source": [
        "## Random Forest"
      ]
    },
    {
      "cell_type": "code",
      "execution_count": null,
      "metadata": {
        "id": "c3DkXt_23LYs"
      },
      "outputs": [],
      "source": [
        "Rnd_clf = RandomForestClassifier(n_estimators=239, max_leaf_nodes = 16, n_jobs = -1)\n",
        "Rnd_clf.fit(x_train_std, y_train)\n",
        "y_pred = Rnd_clf.predict(x_test_std)\n",
        "\n",
        "# Fit Statistics for RandomForest\n",
        "FitStatCalculation('Random Forest',Rnd_clf, y_test, y_pred, x_test_std)"
      ]
    },
    {
      "cell_type": "markdown",
      "metadata": {
        "id": "kUcyCj1jNbDL"
      },
      "source": [
        "##Gradient Boosting"
      ]
    },
    {
      "cell_type": "code",
      "execution_count": null,
      "metadata": {
        "id": "Mu6O-6CxZIoV"
      },
      "outputs": [],
      "source": [
        "from sklearn.ensemble import GradientBoostingClassifier\n",
        "gb_Cls = GradientBoostingClassifier(n_estimators=200, max_features=9, max_depth=8, random_state=0)\n",
        "gb_Cls.fit(x_train_std, y_train)\n",
        "y_pred = gb_Cls.predict(x_test_std)\n",
        "\n",
        "# Fit Statistics for Gradient Boosting\n",
        "FitStatCalculation('Grading Boosting',gb_Cls, y_test, y_pred, x_test_std)"
      ]
    },
    {
      "cell_type": "code",
      "execution_count": null,
      "metadata": {
        "id": "iu08SWJ-OtSU"
      },
      "outputs": [],
      "source": [
        "xgb_Cls = xgb.XGBClassifier(n_estimators=200, max_features=9, max_depth=8, random_state=0)\n",
        "xgb_Cls.fit(x_train_std, y_train)\n",
        "y_pred = xgb_Cls.predict(x_test_std)\n",
        "\n",
        "# Fit Statistics for Gradient Boosting\n",
        "FitStatCalculation('Extreme Grading Boosting',xgb_Cls, y_test, y_pred, x_test_std)\n",
        "\n",
        "xgb.plot_importance(booster=xgb_Cls)\n",
        "plt.show()"
      ]
    },
    {
      "cell_type": "markdown",
      "metadata": {
        "id": "iosaObTkUcMR"
      },
      "source": [
        "## Logistic Regression"
      ]
    },
    {
      "cell_type": "code",
      "execution_count": null,
      "metadata": {
        "id": "9HNTv3VpGbAn"
      },
      "outputs": [],
      "source": [
        "# Training ML logistic regression model on training data set\n",
        "lr = LogisticRegression(C=1000.0, random_state=0)\n",
        "lr.fit(x_train_std, y_train)\n",
        "# Validating the ML on test data set and finding the accuracy score\n",
        "y_pred = lr.predict(x_test_std)\n",
        "\n",
        "# Fit Statistics for Logistic Regression\n",
        "FitStatCalculation('Logistic Regression',lr, y_test, y_pred, x_test_std)"
      ]
    },
    {
      "cell_type": "markdown",
      "metadata": {
        "id": "TkCV6fIRt2JY"
      },
      "source": [
        "## SVM:  Support Vector Machines"
      ]
    },
    {
      "cell_type": "code",
      "execution_count": null,
      "metadata": {
        "id": "QJ9YiGXdUby9"
      },
      "outputs": [],
      "source": [
        "# Training ML on SVC of training data set\n",
        "svm = SVC(kernel='linear', C=1.0, random_state=0)\n",
        "svm.fit(x_train_std, y_train)\n",
        "# Validating the ML on test data set and finding its accuracy\n",
        "y_pred = svm.predict(x_test_std)\n",
        "\n",
        "# Fit Statistics for Logistic Regression\n",
        "FitStatCalculation('SVC',svm, y_test, y_pred, x_test_std)"
      ]
    },
    {
      "cell_type": "markdown",
      "metadata": {
        "id": "p9_wBMAfzpEd"
      },
      "source": [
        "## Perceptron"
      ]
    },
    {
      "cell_type": "code",
      "execution_count": null,
      "metadata": {
        "id": "YYiYUNNCjM_w"
      },
      "outputs": [],
      "source": [
        "ppn = Perceptron(max_iter=40, eta0=0.1, random_state=0)\n",
        "ppn.fit(x_train_std, y_train)\n",
        "\n",
        "y_pred = ppn.predict(x_test_std)\n",
        "\n",
        "# Fit Statistics for Perceptron\n",
        "FitStatCalculation('Perceptron',ppn, y_test, y_pred, x_test_std)"
      ]
    },
    {
      "cell_type": "markdown",
      "metadata": {
        "id": "atKWt3xGpTaG"
      },
      "source": [
        "## Naive Bayes"
      ]
    },
    {
      "cell_type": "code",
      "execution_count": null,
      "metadata": {
        "id": "MUUrwNiopXZe"
      },
      "outputs": [],
      "source": [
        "# Training the Naive Bayes model on the Training set\n",
        "GNB = GaussianNB()\n",
        "GNB.fit(x_train_std, y_train)\n",
        "\n",
        "# Predicting the Test set results\n",
        "y_pred = GNB.predict(x_test_std)\n",
        "\n",
        "FitStatCalculation('Naive Bayes',GNB, y_test, y_pred, x_test_std)"
      ]
    },
    {
      "cell_type": "markdown",
      "metadata": {
        "id": "vA1xYUIbV6KN"
      },
      "source": [
        "##K-Nearest Neighbors\n"
      ]
    },
    {
      "cell_type": "code",
      "execution_count": null,
      "metadata": {
        "id": "B-5EVe2HgYFH"
      },
      "outputs": [],
      "source": [
        "# selecting k value based on accuracy score\n",
        "accuracy_score_K=[]\n",
        "MaxKNNAccuracy = 0\n",
        "for i in range(1,17):\n",
        "  knn_clf=KNeighborsClassifier(n_neighbors=i)\n",
        "  knn_clf.fit(x_train_std,y_train)\n",
        "  pred= knn_clf.predict(x_test_std)\n",
        "  accuracy_score_K.append(accuracy_score(y_test,pred))\n",
        "MaxK=max(accuracy_score_K)\n",
        "print(f'Accuracy is highest for K value {accuracy_score_K.index(MaxK)} i.e., {round(MaxK,3)}')"
      ]
    },
    {
      "cell_type": "code",
      "execution_count": null,
      "metadata": {
        "id": "PpPP3y5QyLiQ"
      },
      "outputs": [],
      "source": [
        "# KNN model for K=10, and Classification Report\n",
        "knn_clf=KNeighborsClassifier(n_neighbors=10)\n",
        "knn_clf.fit(x_train_std,y_train)\n",
        "y_pred= knn_clf.predict(x_test_std)\n",
        "print('with k=8')\n",
        "print('\\n')\n",
        "FitStatCalculation('KNN', knn_clf, y_test, y_pred, x_test_std)"
      ]
    },
    {
      "cell_type": "markdown",
      "metadata": {
        "id": "fLc2C0kapnzT"
      },
      "source": [
        "# Model Comparison in terms of Accuracy"
      ]
    },
    {
      "cell_type": "code",
      "execution_count": null,
      "metadata": {
        "id": "8ZmyZGqJpmN9"
      },
      "outputs": [],
      "source": [
        "ModelNames = [ \"Logistic\", \"Linear_SVM\", \"Naive_Bayes\", \"Xtreme Gradient Boosting\", \"Gradient Boosting\",  \"Random Forest\", \"Decision Tree\", \"Perceptron\", \"KNN\"]\n",
        "Classifiers = [lr, svm, GNB,xgb_Cls, gb_Cls, Rnd_clf, Dtree, ppn, knn_clf]\n",
        "scores = []\n",
        "for name, clf in zip(ModelNames, Classifiers):\n",
        "    score = round(clf.score(x_test_std, y_test),3)\n",
        "    scores.append(score)\n",
        "Comparison = pd.DataFrame()\n",
        "Comparison['ModelName'] = ModelNames\n",
        "Comparison['AccuracyScore'] = scores\n",
        "Comparison"
      ]
    }
  ],
  "metadata": {
    "colab": {
      "provenance": [],
      "include_colab_link": true
    },
    "kernelspec": {
      "display_name": "Python 3",
      "name": "python3"
    },
    "language_info": {
      "name": "python"
    }
  },
  "nbformat": 4,
  "nbformat_minor": 0
}